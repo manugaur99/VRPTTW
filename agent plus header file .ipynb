{
 "cells": [
  {
   "cell_type": "code",
   "execution_count": 13,
   "metadata": {},
   "outputs": [],
   "source": [
    "import numpy as np"
   ]
  },
  {
   "cell_type": "code",
   "execution_count": 14,
   "metadata": {},
   "outputs": [],
   "source": [
    "MAX_LABEL_COST =  99999\n",
    "_MAX_NUMBER_OF_NODES = 3000\n",
    "_MAX_NUMBER_OF_LINKS = 6000\n",
    "_MAX_NUMBER_OF_TIME_INTERVALS = 200\n",
    "\n",
    "_MAX_NUMBER_OF_VEHICLES = 40\n",
    "_MAX_NUMBER_OF_PASSENGERS = 2000\n",
    "_MAX_NUMBER_OF_SERVED_PASSENGERS = 20\n",
    "\n",
    "_MAX_NUMBER_OF_STATES =300\n",
    "\n",
    "g_number_of_passengers = None\n",
    "\n",
    "\n",
    "_MAX_NUMBER_OF_OUTBOUND_NODES =  10\n",
    "\n",
    "\n"
   ]
  },
  {
   "cell_type": "code",
   "execution_count": 35,
   "metadata": {},
   "outputs": [],
   "source": [
    "#Initialising 2d Array \n",
    "def _2D(x, y):\n",
    "    return np.zeros(x,y)"
   ]
  },
  {
   "cell_type": "code",
   "execution_count": 36,
   "metadata": {},
   "outputs": [],
   "source": [
    "#Initialising 3d Array \n",
    "def _3D(x,y,z):\n",
    "    return np.zeros((x,y,z))"
   ]
  },
  {
   "cell_type": "code",
   "execution_count": 37,
   "metadata": {},
   "outputs": [],
   "source": [
    "#Initialising 4d Array \n",
    "def _3D(w,x,y,z):\n",
    "    return np.zeros((w,x,y,z))"
   ]
  },
  {
   "cell_type": "code",
   "execution_count": 38,
   "metadata": {},
   "outputs": [],
   "source": [
    "#Initialising 5d Array \n",
    "def _3D(v,w,x,y,z):\n",
    "    return np.zeros((v,w,x,y,z))"
   ]
  },
  {
   "cell_type": "code",
   "execution_count": null,
   "metadata": {},
   "outputs": [],
   "source": [
    "#extern bool g_Optimization_Lagrangian_Method_Vehicle_Routing_Problem_Simple_Variables();  // with varaible y only;"
   ]
  },
  {
   "cell_type": "code",
   "execution_count": null,
   "metadata": {},
   "outputs": [],
   "source": []
  }
 ],
 "metadata": {
  "kernelspec": {
   "display_name": "Python 3",
   "language": "python",
   "name": "python3"
  },
  "language_info": {
   "codemirror_mode": {
    "name": "ipython",
    "version": 3
   },
   "file_extension": ".py",
   "mimetype": "text/x-python",
   "name": "python",
   "nbconvert_exporter": "python",
   "pygments_lexer": "ipython3",
   "version": "3.8.5"
  }
 },
 "nbformat": 4,
 "nbformat_minor": 4
}
